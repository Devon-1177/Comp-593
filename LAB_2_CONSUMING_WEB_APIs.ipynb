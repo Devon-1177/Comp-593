{
  "nbformat": 4,
  "nbformat_minor": 0,
  "metadata": {
    "colab": {
      "name": "LAB 2: CONSUMING WEB APIs",
      "provenance": [],
      "collapsed_sections": [],
      "toc_visible": true,
      "include_colab_link": true
    },
    "kernelspec": {
      "name": "python3",
      "display_name": "Python 3"
    }
  },
  "cells": [
    {
      "cell_type": "markdown",
      "metadata": {
        "id": "view-in-github",
        "colab_type": "text"
      },
      "source": [
        "<a href=\"https://colab.research.google.com/github/Devon-1177/Comp-593/blob/lab-2/LAB_2_CONSUMING_WEB_APIs.ipynb\" target=\"_parent\"><img src=\"https://colab.research.google.com/assets/colab-badge.svg\" alt=\"Open In Colab\"/></a>"
      ]
    },
    {
      "cell_type": "markdown",
      "metadata": {
        "id": "EoKZy-QeYU0_"
      },
      "source": [
        "#LAB 2: CONSUMING WEB APIs"
      ]
    },
    {
      "cell_type": "markdown",
      "metadata": {
        "id": "ayyh7BuRYfJo"
      },
      "source": [
        "## Making Network Requests\r\n",
        "To experiment with consuming web APIs, we are going to use a python Library that will allow us to make HTTP requests. There are several options out there, some are more popular than others. The standard choice would be the [requests](https://2.python-requests.org/en/master/) library, but for the purposes of educating you on the finer points of HTTP Messages, we will be utilizing the [http.client](https://docs.python.org/3/library/http.client.html) library."
      ]
    },
    {
      "cell_type": "markdown",
      "metadata": {
        "id": "VkspyplEZ4sR"
      },
      "source": [
        "As we have learned, the first step to utilizing a library is to  import it into our python script. We will import the `client` object from the `http` module."
      ]
    },
    {
      "cell_type": "code",
      "metadata": {
        "id": "UWFC3bYoYRlx"
      },
      "source": [
        "from http import client"
      ],
      "execution_count": 8,
      "outputs": []
    },
    {
      "cell_type": "markdown",
      "metadata": {
        "id": "FJsZPjpqaMnm"
      },
      "source": [
        "Next, we will attempt to create a connection to a host. For the purposes of this demonstration, we will connect to a Fake JSON Api provided to us by [typicode.](https://github.com/typicode)\r\n",
        "So, let's start by reviewing the [http.client documentation](https://docs.python.org/3/library/http.client.html) and creating a connection object."
      ]
    },
    {
      "cell_type": "code",
      "metadata": {
        "id": "vuasc-tmbAV-",
        "colab": {
          "base_uri": "https://localhost:8080/"
        },
        "outputId": "0555d97e-0a46-42ac-c290-742c1e363f65"
      },
      "source": [
        "from http import client\r\n",
        "\r\n",
        "# Per the documentation, we get a connection object by calling the HTTPConnection() or HTTPSConnection() methods,\r\n",
        "# with parameters for the address and port.\r\n",
        "cxn = client.HTTPSConnection('jsonplaceholder.typicode.com', 443)\r\n",
        "\r\n",
        "# Let's test our connection by making a HEAD request, validating the HTTP status code, and printing the response headers.\r\n",
        "cxn.request('HEAD', '/')\r\n",
        "\r\n",
        "response = cxn.getresponse()\r\n",
        "\r\n",
        "if response.status is 200:\r\n",
        "  print('Response:',response.status, '🎉🎉🎉', '\\n')\r\n",
        "else:\r\n",
        "  print('Uh Oh, got',response.status)\r\n",
        "\r\n",
        "print(response.headers)"
      ],
      "execution_count": 9,
      "outputs": [
        {
          "output_type": "stream",
          "text": [
            "Response: 200 🎉🎉🎉 \n",
            "\n",
            "Date: Mon, 08 Feb 2021 18:21:03 GMT\n",
            "Content-Type: text/html; charset=UTF-8\n",
            "Connection: keep-alive\n",
            "Set-Cookie: __cfduid=d06891b6fb3b9f6ed1475a03cf623d1861612808463; expires=Wed, 10-Mar-21 18:21:03 GMT; path=/; domain=.typicode.com; HttpOnly; SameSite=Lax\n",
            "X-Powered-By: Express\n",
            "X-Ratelimit-Limit: 1000\n",
            "X-Ratelimit-Remaining: 999\n",
            "X-Ratelimit-Reset: 1612777317\n",
            "Vary: Origin, Accept-Encoding\n",
            "Access-Control-Allow-Credentials: true\n",
            "Cache-Control: public, max-age=43200\n",
            "Last-Modified: Mon, 08 Feb 2021 07:30:45 GMT\n",
            "Via: 1.1 vegur\n",
            "CF-Cache-Status: HIT\n",
            "Age: 2373\n",
            "cf-request-id: 0824793dca00000cad6236e000000001\n",
            "Expect-CT: max-age=604800, report-uri=\"https://report-uri.cloudflare.com/cdn-cgi/beacon/expect-ct\"\n",
            "Report-To: {\"max_age\":604800,\"endpoints\":[{\"url\":\"https:\\/\\/a.nel.cloudflare.com\\/report?s=lgYVeNNqZphH5dDurs%2BAXniw7ZdEhXp5pUgRv5%2FjqXBbTsAUWyfYzgpIdgnh7CuYjabTtJtnRXj8a3eFDHbgR9a9r%2FP5f4wB7FRD5h9M08Wr7MZ0afLHRhwW5HJ7\"}],\"group\":\"cf-nel\"}\n",
            "NEL: {\"report_to\":\"cf-nel\",\"max_age\":604800}\n",
            "Server: cloudflare\n",
            "CF-RAY: 61e75e42daca0cad-EWR\n",
            "\n",
            "\n"
          ],
          "name": "stdout"
        }
      ]
    },
    {
      "cell_type": "markdown",
      "metadata": {
        "id": "_qwpsJKreFSj"
      },
      "source": [
        "Awesome! A 200 status code means everything is g2g. For information about what the different status codes retured from HTTP Requests, [look here.](https://developer.mozilla.org/en-US/docs/Web/HTTP/Status) If you received anything other than a 200 Status code, try reloading the Notebook, ensuring you didn't accidentally make any changes."
      ]
    },
    {
      "cell_type": "markdown",
      "metadata": {
        "id": "1dr6bRGJfK5N"
      },
      "source": [
        "## JSON: The Language of APIs\r\n",
        "\r\n",
        "JSON (**J**ava**S**cript **O**bject **N**otation) is a messaging standard that was formalized in 2014 based on specifications of the JavaScript Standard introduced in 1999. In it's simplest form, it is an object containing a collection of `key` and `value` pairs. Values can be any primitive data types such as `boolean`, `integer`, `float`, or `string` but can also be nested `objects` or `arrays`.\r\n",
        "Almost every language provides an interface to be able to encode or decode JSON objects into a native format.\r\n",
        "\r\n",
        "In the case of python, we can decode JSON objects to `dictionaries`, and vice versa. See the example below:"
      ]
    },
    {
      "cell_type": "code",
      "metadata": {
        "id": "tB53-AfEg1sW",
        "colab": {
          "base_uri": "https://localhost:8080/"
        },
        "outputId": "98a3bf3e-df38-4bb6-f62a-96883e6ef80f"
      },
      "source": [
        "import json\r\n",
        "\r\n",
        "#Given the following Dictionary\r\n",
        "values = dict([('first_name', 'Homer'), ('last_name', 'Simpson'), ('city', 'Springfield'), ('occupation', 'Nuclear Technician')])\r\n",
        "\r\n",
        "#We can convert a dictionary to using using the json.dumps() method\r\n",
        "jsonObject = json.dumps(values)\r\n",
        "print(jsonObject, '\\n')\r\n",
        "\r\n",
        "#Alternatively, given JSON, we can convert to a Dictionary object using the json.loads() method\r\n",
        "dictionary = json.loads(jsonObject)\r\n",
        "print(dictionary['first_name'], dictionary['last_name'])"
      ],
      "execution_count": 13,
      "outputs": [
        {
          "output_type": "stream",
          "text": [
            "{\"first_name\": \"Homer\", \"last_name\": \"Simpson\", \"city\": \"Springfield\", \"occupation\": \"Nuclear Technician\"} \n",
            "\n",
            "Homer Simpson\n"
          ],
          "name": "stdout"
        }
      ]
    },
    {
      "cell_type": "markdown",
      "metadata": {
        "id": "ceieILkVovku"
      },
      "source": [
        "Taking a look at the Documentation for the [fake API](https://jsonplaceholder.typicode.com/), it returns JSON objects for requests it receives. Let's try and combine what we've learned to get the Email Address of the User with ID 10."
      ]
    },
    {
      "cell_type": "code",
      "metadata": {
        "id": "F--Bluq4pY4j",
        "colab": {
          "base_uri": "https://localhost:8080/"
        },
        "outputId": "bdef2252-00a9-4278-af41-6beba365749a"
      },
      "source": [
        "from http import client\r\n",
        "import json\r\n",
        "\r\n",
        "# Per the documentation, we get a connection object by calling the HTTPConnection() or HTTPSConnection() methods,\r\n",
        "# with parameters for the address and port.\r\n",
        "cxn = client.HTTPSConnection('jsonplaceholder.typicode.com', 443)\r\n",
        "\r\n",
        "# In order to make our request, we will need to modify the method from our previous example to a GET request for the resource at '/users/10'.\r\n",
        "# When you're ready, uncomment the method call below.\r\n",
        "cxn.request('GET', '/users/10')\r\n",
        "\r\n",
        "response = cxn.getresponse()\r\n",
        "if response.status is 200:\r\n",
        "  print('Response:',response.status, '🎉🎉🎉', '\\n')\r\n",
        "else:\r\n",
        "  print('Uh Oh, got',response.status)\r\n",
        "\r\n",
        "#If everything goes well, this should contain the JSON response from the API.\r\n",
        "jsonData = response.read().decode()\r\n",
        "print(jsonData)\r\n",
        "\r\n",
        "#Next, go ahead and convert the jsonData string to a Dictionary, and print the email address.\r\n",
        "#Look at the example above for some pointers on how to accomplish that.\r\n",
        "dictionary = json.loads(jsonData)\r\n",
        "print(dictionary['email'])"
      ],
      "execution_count": 23,
      "outputs": [
        {
          "output_type": "stream",
          "text": [
            "Response: 200 🎉🎉🎉 \n",
            "\n",
            "{\n",
            "  \"id\": 10,\n",
            "  \"name\": \"Clementina DuBuque\",\n",
            "  \"username\": \"Moriah.Stanton\",\n",
            "  \"email\": \"Rey.Padberg@karina.biz\",\n",
            "  \"address\": {\n",
            "    \"street\": \"Kattie Turnpike\",\n",
            "    \"suite\": \"Suite 198\",\n",
            "    \"city\": \"Lebsackbury\",\n",
            "    \"zipcode\": \"31428-2261\",\n",
            "    \"geo\": {\n",
            "      \"lat\": \"-38.2386\",\n",
            "      \"lng\": \"57.2232\"\n",
            "    }\n",
            "  },\n",
            "  \"phone\": \"024-648-3804\",\n",
            "  \"website\": \"ambrose.net\",\n",
            "  \"company\": {\n",
            "    \"name\": \"Hoeger LLC\",\n",
            "    \"catchPhrase\": \"Centralized empowering task-force\",\n",
            "    \"bs\": \"target end-to-end models\"\n",
            "  }\n",
            "}\n",
            "Rey.Padberg@karina.biz\n"
          ],
          "name": "stdout"
        }
      ]
    },
    {
      "cell_type": "markdown",
      "metadata": {
        "id": "pPObsy_av_Ic"
      },
      "source": [
        "## Lab Submission\r\n",
        "\r\n",
        "For your Lab Submission, you will create a script that accomplishes the following goals:\r\n",
        "\r\n",
        "1.   Review the Documentation for the [PokeApi](https://pokeapi.co/)\r\n",
        "2.   Make a GET request to the correct endpoint to get information about any Pokemon.\r\n",
        "3.   Convert that Data from a JSON object to a Dictionary\r\n",
        "4.   Using that Dictonary, craft a string that will provide the `name`, `weight` and list of names of `types`\r\n",
        "5. Make an HTTP POST request using the Provided PasteBin API key to upload your crafted string. If successful, you will receive the URL of the PasteBin Document in the response of the POST request.\r\n",
        "6. That Link, and the code within this Notebook, will be your submission.\r\n",
        "\r\n"
      ]
    },
    {
      "cell_type": "code",
      "metadata": {
        "id": "lZswmCEKyHj8",
        "colab": {
          "base_uri": "https://localhost:8080/"
        },
        "outputId": "78f9a6de-7982-478a-f718-38e89e7e84e9"
      },
      "source": [
        "from http import client\r\n",
        "import urllib\r\n",
        "import json\r\n",
        "\r\n",
        "#HINT: You may want to create two different HTTPSConnection() objects for each API.\r\n",
        "pokeApi = client.HTTPSConnection('pokeapi.co', 443)\r\n",
        "pasteBin = client.HTTPSConnection('pastebin.com', 443)\r\n",
        "outputtext = \"\"\r\n",
        "\r\n",
        "#The Pastebin API key you will use\r\n",
        "pasteBinApi = \"f4R0OTFza_qTQ1NZJYLjoCeLqoHQux4X\"\r\n",
        "\r\n",
        "#Refer to the documentation at https://pastebin.com/doc_api for instructions on these parameters\r\n",
        "requestParams = {\r\n",
        "    'api_dev_key': pasteBinApi,\r\n",
        "    'api_option': \"paste\",\r\n",
        "    'api_paste_code': text\r\n",
        "}\r\n",
        "\r\n",
        "pokeApi.request('GET', '/api/v2/pokemon/unown')\r\n",
        "responsefrom = pokeApi.getresponse()\r\n",
        "jsonData = responsefrom.read().decode()\r\n",
        "#print(jsonData)\r\n",
        "dictionary = json.loads(jsonData)\r\n",
        "typesString = \"\"\r\n",
        "for type in dictionary['types']:\r\n",
        "    typesString = typesString + \", \" + str(type['type'])\r\n",
        "print(typesString)\r\n",
        "\r\n",
        "text = \"my pokemon is {0}, the weight is {1} and the types are {2}\".format(dictionary[\"name\"], dictionary[\"weight\"], typeString)\r\n",
        "\r\n",
        "\r\n",
        "#This additional Method call will convert the Dictionary to a URL-Encoded string for PasteBin,\r\n",
        "#Include this string as the body of your call to the HTTPConnection.request() method for your pasteBin connection.\r\n",
        "requestBody = urllib.parse.urlencode(requestParams)\r\n",
        "\r\n",
        "#Since we are URLEncoding the request Body, we need to tell Pastebin that it can expect x-www-form-urlencoded content, by adding this information to the request header\r\n",
        "pasteBinHeaders = {'Content-Type': 'application/x-www-form-urlencoded'}\r\n",
        "\r\n",
        "#When you are ready, you will pass the requestBody and the pasteBinHeaders to a pastebin request object, filling in the parameters as necessary.\r\n",
        "print(text)\r\n",
        "pasteBinRequest = pasteBin.request(\"POST\", '/api/api_post.php', requestBody, pasteBinHeaders)\r\n",
        "pastebinresponseback = pasteBin.getresponse()\r\n",
        "urlvariable = pastebinresponseback.read().decode()\r\n",
        "print(urlvariable)\r\n"
      ],
      "execution_count": 100,
      "outputs": [
        {
          "output_type": "stream",
          "text": [
            ", {'name': 'psychic', 'url': 'https://pokeapi.co/api/v2/type/14/'}\n",
            "my pokemon is unown, the weight is 50 and the types are , {'name': 'psychic', 'url': 'https://pokeapi.co/api/v2/type/14/'}\n",
            "https://pastebin.com/3Dcri1hA\n"
          ],
          "name": "stdout"
        }
      ]
    },
    {
      "cell_type": "code",
      "metadata": {
        "id": "YwrvqQV0d1ta"
      },
      "source": [
        ""
      ],
      "execution_count": 96,
      "outputs": []
    }
  ]
}