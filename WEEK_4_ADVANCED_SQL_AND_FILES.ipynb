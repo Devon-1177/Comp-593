{
  "nbformat": 4,
  "nbformat_minor": 0,
  "metadata": {
    "colab": {
      "name": "WEEK 4 ADVANCED SQL AND FILES",
      "provenance": [],
      "include_colab_link": true
    },
    "kernelspec": {
      "name": "python3",
      "display_name": "Python 3"
    }
  },
  "cells": [
    {
      "cell_type": "markdown",
      "metadata": {
        "id": "view-in-github",
        "colab_type": "text"
      },
      "source": [
        "<a href=\"https://colab.research.google.com/github/Devon-1177/Comp-593/blob/lab-4/WEEK_4_ADVANCED_SQL_AND_FILES.ipynb\" target=\"_parent\"><img src=\"https://colab.research.google.com/assets/colab-badge.svg\" alt=\"Open In Colab\"/></a>"
      ]
    },
    {
      "cell_type": "markdown",
      "metadata": {
        "id": "jtmWSsdu7sGV"
      },
      "source": [
        "# Lab 4 - Advanced SQL / Writing Files\r\n",
        "\r\n",
        "In this week's lab, we are going to expand our Really Simple Social Network by adding another table that will record connections between people! Because after all, what good is a social network if you can't ... be social?\r\n",
        "\r\n",
        "Afterwards, we will be in a good position to run a report on the data, and then we can sell it to marketers for a massive profit! Isn't it great how few people read the terms of service? `/s`"
      ]
    },
    {
      "cell_type": "markdown",
      "metadata": {
        "id": "u_jgOruj82au"
      },
      "source": [
        "## Importing our database\r\n",
        "Since we are using a new colab notebook, we will need to reimport our database. Check your D2L Submission if you didn't keep a copy, you should be able to redownload it there. Run the below code block and the file upload picker will appear, after uploading your Database file, check that it appears in the `Files` tab of colab.\r\n",
        "\r\n",
        "Remember that you may need to update the listings before it will appear."
      ]
    },
    {
      "cell_type": "code",
      "metadata": {
        "id": "8IIOmhjf7GoX",
        "colab": {
          "resources": {
            "http://localhost:8080/nbextensions/google.colab/files.js": {
              "data": "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",
              "ok": true,
              "headers": [
                [
                  "content-type",
                  "application/javascript"
                ]
              ],
              "status": 200,
              "status_text": ""
            }
          },
          "base_uri": "https://localhost:8080/",
          "height": 72
        },
        "outputId": "afbaee40-70d1-4b7f-e680-52190705c8a7"
      },
      "source": [
        "from google.colab import files\r\n",
        "uploaded = files.upload()\r\n"
      ],
      "execution_count": 1,
      "outputs": [
        {
          "output_type": "display_data",
          "data": {
            "text/html": [
              "\n",
              "     <input type=\"file\" id=\"files-23773d66-800d-4104-8aae-bad4a8be22d7\" name=\"files[]\" multiple disabled\n",
              "        style=\"border:none\" />\n",
              "     <output id=\"result-23773d66-800d-4104-8aae-bad4a8be22d7\">\n",
              "      Upload widget is only available when the cell has been executed in the\n",
              "      current browser session. Please rerun this cell to enable.\n",
              "      </output>\n",
              "      <script src=\"/nbextensions/google.colab/files.js\"></script> "
            ],
            "text/plain": [
              "<IPython.core.display.HTML object>"
            ]
          },
          "metadata": {
            "tags": []
          }
        },
        {
          "output_type": "stream",
          "text": [
            "Saving social_network.db to social_network.db\n"
          ],
          "name": "stdout"
        }
      ]
    },
    {
      "cell_type": "markdown",
      "metadata": {
        "id": "Niw3IKvx-034"
      },
      "source": [
        "## Creating our relationship table\r\n",
        "\r\n",
        "In the code block below, we will be creating a new table in our database for `relationships` with the following parameters:\r\n",
        "\r\n",
        "\r\n",
        "1.   A primary key column called `id` with the `INTEGER` datatype that is `NOT NULL`\r\n",
        "2.   A foreign key column called `user_id` that links to the `id` column of the `people` table with the `INTEGER` datatype that is `NOT NULL`\r\n",
        "3.   Another foreign key column called `friend_id` that also links to the `id` column of the `people` table with the `INTEGER` datatype that is `NOT NULL`\r\n",
        "4.   A `date_created` table with the `DATE` datatype that is `NOT NULL`\r\n",
        "\r\n",
        "The Below codeblock will get you started:\r\n",
        "\r\n"
      ]
    },
    {
      "cell_type": "code",
      "metadata": {
        "id": "P2btKpXsANBX"
      },
      "source": [
        "import sqlite3\r\n",
        "\r\n",
        "#Retreive the Connection object, rename the file to match your uploaded DB if necessary.\r\n",
        "myConnection = sqlite3.connect('social_network.db')\r\n",
        "\r\n",
        "#Once we have a Connection object, we can generate a Cursor object, and use that to run our SQL Queries\r\n",
        "myCursor = myConnection.cursor()\r\n",
        "\r\n",
        "#The Primary Key column has been provided for you,\r\n",
        "#Replace '#!...' with the remaining column names, datatypes, and foreign key declarations.\r\n",
        "#Use the Lecture notes and the previous lab if you are unsure.\r\n",
        "createRelationshipsTable = \"\"\"CREATE TABLE IF NOT EXISTS relationships (\r\n",
        "                          id integer PRIMARY KEY NOT NULL,\r\n",
        "                          user_id integer NOT NULL,\r\n",
        "                          friend_id integer NOT NULL,\r\n",
        "                          date_created date NOT NULL,\r\n",
        "                          FOREIGN KEY (user_id) REFERENCES people(id)\r\n",
        "                          FOREIGN KEY (friend_id) REFERENCES people(id)\r\n",
        "                        );\"\"\"\r\n",
        "\r\n",
        "#Once again, we will execute the query, persist the changes, and close our connection.\r\n",
        "myCursor.execute(createRelationshipsTable)\r\n",
        "myConnection.commit()\r\n",
        "myConnection.close()"
      ],
      "execution_count": 38,
      "outputs": []
    },
    {
      "cell_type": "markdown",
      "metadata": {
        "id": "AQ4tDbnaBPpD"
      },
      "source": [
        "## Populating Relationship Data\r\n",
        "\r\n",
        "We're not going to be picky about who knows who - so for the purposes of this lab, we're going to use our own version of an AI matchmaker, the `randrange()` method.\r\n",
        "\r\n",
        "Complete the below codeblock, inserting 1000 new rows into the relationships table.\r\n",
        "Use a random number between `1 - 1000` for the `user_id` and `friend_id` columns. This will link up to the `id` column of the `people` table and effectivly simulate a random network of relationships.\r\n",
        "\r\n",
        "The below code block is purposely sparse, as you should be able to use the patterns you've identified in the previous lab to complete this task."
      ]
    },
    {
      "cell_type": "code",
      "metadata": {
        "id": "XL7ho2tJCTBG"
      },
      "source": [
        "import sqlite3\r\n",
        "from datetime import datetime #For generating dates and times\r\n",
        "from random import randrange #For generating random numbers within a range\r\n",
        "\r\n",
        "#Retreive the Connection object, rename the file to match your uploaded DB if necessary.\r\n",
        "myConnection = sqlite3.connect('social_network.db')\r\n",
        "\r\n",
        "#Once we have a Connection object, we can generate a Cursor object, and use that to run our SQL Queries\r\n",
        "myCursor = myConnection.cursor()\r\n",
        "\r\n",
        "#Complete the below query\r\n",
        "query =  \"\"\"INSERT INTO relationships (\r\n",
        "            user_id,\r\n",
        "            friend_id,\r\n",
        "            date_created\r\n",
        "         ) VALUES (?, ?, ?);\"\"\"\r\n",
        "\r\n",
        "for _ in range(1000):\r\n",
        "  #Populate the arguments that will be used in the query\r\n",
        "  args = (randrange(1, 1000), randrange(1, 1000), datetime.now())\r\n",
        "  #Execute the query\r\n",
        "  myCursor.execute(query, args)\r\n",
        "\r\n",
        "#Commit your changes and close the connection.\r\n",
        "myConnection.commit()\r\n",
        "myConnection.close()\r\n"
      ],
      "execution_count": 39,
      "outputs": []
    },
    {
      "cell_type": "markdown",
      "metadata": {
        "id": "qqZLm-E0E2AV"
      },
      "source": [
        "## Building our Report\r\n",
        "\r\n",
        "Now that our AI Matchmaker has generated our network of relationships, a marketing firm is offering us boatloads of cash for information about the amount of friends the users of our social network have.\r\n",
        "\r\n",
        "The request is to return the name of each user, and the total number of relationships they have made.\r\n",
        "\r\n",
        "If this was explained in awkward pseudo code, it might go something like this:\r\n",
        "```\r\n",
        "SELECT all relationships\r\n",
        "JOIN them to the people they belong to\r\n",
        "GROUP the results by the person's ID\r\n",
        "return the person's name and COUNT of their relationships\r\n",
        "```\r\n",
        "\r\n",
        "After you have collected the data, you will need to write it to a `.txt` file. \r\n",
        "\r\n",
        "**Your submission will include the report `.txt` file, the copy of your updated `social_network.db` file, and a link to the colab notebook.**\r\n",
        "\r\n",
        "Look at the aggregate functions from Week 3 and the Join examples from Week 4. There are a few different ways that you can structure a query to reach the correct answer.\r\n",
        "\r\n",
        "**At a minimum, you will need to use a `LEFT JOIN` statement, a `GROUP BY` statement, and a `COUNT()` aggregate function.**\r\n",
        "\r\n",
        "The below code block will get you started:"
      ]
    },
    {
      "cell_type": "code",
      "metadata": {
        "id": "0OvhhCMKGkU3",
        "colab": {
          "base_uri": "https://localhost:8080/"
        },
        "outputId": "f19312fc-f531-40fc-9cf2-28f3742265b9"
      },
      "source": [
        "import sqlite3\r\n",
        "\r\n",
        "#Retreive the Connection object, rename the file to match your uploaded DB if necessary.\r\n",
        "myConnection = sqlite3.connect('social_network.db')\r\n",
        "\r\n",
        "#Once we have a Connection object, we can generate a Cursor object, and use that to run our SQL Queries\r\n",
        "myCursor = myConnection.cursor()\r\n",
        "\r\n",
        "#Uncomment the below line after you have determined what the correct mode will be for your file pointer.\r\n",
        "fp = open('report.txt', mode='w')\r\n",
        "\r\n",
        "#Complete the below query\r\n",
        "query =  \"\"\"SELECT name, count(friend_id) \r\n",
        "            FROM relationships\r\n",
        "            LEFT JOIN people\r\n",
        "            ON relationships.id = people.id\r\n",
        "            GROUP BY user_id\r\n",
        "         ;\"\"\"\r\n",
        "\r\n",
        "myCursor.execute(query)\r\n",
        "result = myCursor.fetchall()\r\n",
        "results = repr(result)\r\n",
        "fp.write(results)\r\n",
        "print (results + \"\\n\")\r\n",
        "fp.close\r\n",
        "#for result in results:\r\n",
        "  #You will want to write the results to the file pointer here.\r\n",
        "  #Use the newline character \\n to create a line break in each write() statement.\r\n",
        "  #Use print() statements as sanity checks if you are unsure of the integrity of your data.\r\n",
        "\r\n",
        "#Don't forget to close the file pointer after you have finished!"
      ],
      "execution_count": 64,
      "outputs": [
        {
          "output_type": "stream",
          "text": [
            "[('Emily Bennett', 3), ('Savannah Cooper', 1), ('Angela Massey', 1), ('Kathleen Nguyen', 1), ('Savannah Nunez', 3), ('Whitney Powers', 2), ('Austin Black', 3), ('Lori Andersen', 1), ('Marcia Kelly', 2), ('Kevin Adkins', 1), ('Nathan Brown', 3), ('Michael Gray', 4), ('Stephanie Dunn', 1), ('Jorge Le', 2), ('Lindsay Wolf', 2), ('Bryan Page', 1), ('Morgan Eaton', 1), ('Michelle Jimenez', 1), ('Kenneth Moore', 1), ('Patrick Villanueva', 1), ('Clarence Oconnell', 2), ('Madison Davis MD', 1), ('Matthew Meza', 1), ('Amy White', 3), ('Anna Hancock', 1), ('Melanie Smith', 3), ('Wendy Compton', 1), ('Brandon Burke', 1), ('Thomas White', 2), ('Anthony Robinson', 2), ('Daniel Martin', 1), ('Katrina Mathis', 2), ('Donna Sanford', 1), ('Luis Prince', 1), ('Paul Harris', 2), ('Tonya Anderson', 1), ('Tracy Garcia', 1), ('Edward Duran', 1), ('Alexandra Maddox', 2), ('Erin Gay', 2), ('Barbara Francis', 1), ('Kevin Gillespie', 2), ('Kenneth Peters', 2), ('Mike Moyer', 1), ('Eric Burns', 1), ('Heather Clements', 1), ('Isaac Smith', 2), ('Alexander Gray', 3), ('Daniel Ayers', 1), ('Karla Lee', 1), ('Margaret Brandt', 1), ('Regina Reynolds', 2), ('Mike Wood', 2), ('Edward Campbell', 2), ('Jessica Dawson', 1), ('Alexandria Carr', 2), ('Jason Fletcher', 1), ('Michael Camacho', 1), ('Joseph Kirk', 1), ('Michael Meza', 2), ('Kimberly Shaw', 1), ('Jessica Castaneda', 2), ('Julian Davis', 3), ('Cathy Wilcox', 1), ('Kimberly Wells', 1), ('Stacey Larson', 1), ('Casey Rodriguez', 1), ('George White', 1), ('Michael Moore', 3), ('James Garza', 1), ('Tyrone White PhD', 2), ('Rhonda Turner', 2), ('Robert Dawson', 2), ('Corey White', 1), ('Henry Palmer', 2), ('Daniel Fleming', 3), ('Joseph Wagner', 1), ('Brent Frazier', 1), ('Johnathan Mata', 1), ('Alexandria Flores', 2), ('Mark Navarro', 1), ('Carrie Wade', 1), ('Kristen Nichols', 2), ('Kenneth Sosa', 2), ('Katherine Velasquez', 1), ('Sandy Jackson', 1), ('Alec Lopez MD', 3), ('Thomas Wallace', 2), ('James Howard', 3), ('Patrick Watson', 4), ('Michael Ford', 1), ('Bobby Soto', 1), ('Jamie Barr', 1), ('Christopher Williams', 2), ('William Gilbert', 1), ('Michael Williams', 1), ('Barbara Orr', 3), ('Paige Harrison', 2), ('Crystal Smith', 1), ('Lori Daniels', 1), ('Wendy Montoya', 1), ('David Taylor', 1), ('Deanna Wolf', 1), ('Alex Warren', 4), ('Christopher Schaefer', 1), ('Mr. Michael Strickland', 2), ('David Cruz', 2), ('Emily Ford', 1), ('Keith Hull', 2), ('Michael Reyes', 1), ('Kristin Steele', 1), ('Julia Berg', 2), ('Philip Rodriguez', 1), ('Mark Duran', 2), ('Caitlyn Soto', 2), ('Mary Watson', 1), ('Sandra Tran', 1), ('Valerie Hughes', 4), ('Robert Mitchell', 4), ('Michael Bridges', 2), ('Jesse Henderson', 1), ('George Chapman', 2), ('Christina Jackson', 2), ('George Steele', 1), ('Matthew Scott', 1), ('Steven Castaneda DDS', 2), ('Susan Graham', 1), ('James Ray', 1), ('Mr. Paul Robbins', 1), ('Claudia Velasquez', 1), ('Erin Green', 1), ('Anthony Long', 2), ('Amanda Adams', 2), ('Robert Smith', 3), ('Erika Woods', 2), ('Brad Butler', 1), ('Christopher Chen', 1), ('Alexa Hood', 1), ('Raymond Roman', 1), ('Alexander Lang', 1), ('Christopher Lamb', 1), ('Jamie Stone', 2), ('Anthony Fox', 1), ('Mary Howell', 2), ('Leslie Smith MD', 2), ('Christopher Jensen', 1), ('Tiffany Henson', 2), ('Chad Martinez', 1), ('Kayla Jones', 1), ('Andrew Perry', 1), ('Laura King', 1), ('Bryan Lindsey', 2), ('Sean Allen', 1), ('Kathryn Perez', 2), ('Tina Butler', 4), ('Caitlin Craig', 2), ('Tommy Rodriguez', 2), ('Candice Barry', 1), ('Stacy Avery', 2), ('Alexander Fletcher', 2), ('Katherine Edwards', 1), ('Amber Phillips', 3), ('Debbie Martinez', 1), ('Joshua Arnold', 3), ('Mindy Schultz', 5), ('Michael Davis', 1), ('Nicole Gill', 1), ('Daniel Bauer', 1), ('Anne Morales', 2), ('Shannon Rios', 1), ('Candace Turner', 4), ('Leslie Silva', 1), ('Cole Hayes', 1), ('Travis Byrd', 2), ('Stephen Hernandez', 1), ('Laurie Lara', 2), ('Diana Becker', 1), ('Sarah Davis', 1), ('Matthew Atkinson', 1), ('Charles Meadows', 2), ('James Holland', 2), ('Kevin Baker', 2), ('Carlos Harrison', 1), ('Mark Hernandez', 1), ('Clarence Morales', 2), ('Timothy Miller', 4), ('Steve Rogers', 1), ('Gregory Smith', 1), ('Mike Willis', 1), ('Vincent Robinson', 1), ('Andrew Barber', 2), ('Aaron Osborn', 1), ('David Johnson', 1), ('Brian Landry', 1), ('Jeffrey Mosley', 1), ('Teresa Sweeney', 1), ('Andrew Hammond', 2), ('Joshua Davis', 1), ('Brandi Mitchell', 1), ('Dennis Oliver', 3), ('Justin Hall', 1), ('Mike Weber', 2), ('Sara Moss', 1), ('Andrea Burton DDS', 3), ('Anna Ford', 1), ('Micheal Beck', 4), ('Kristin Curtis', 1), ('Jessica Mcguire', 2), ('Michael Todd', 1), ('Mary Jones', 2), ('Tammy Walker', 2), ('Debbie Lewis', 2), ('Kristen Miller', 2), ('Katherine Osborne', 2), ('Lindsey Taylor', 1), ('Richard Gonzales', 1), ('Cynthia Fletcher', 1), ('Bridget Evans', 1), ('Charles Parrish', 3), ('Raymond Brown', 1), ('Alisha Schmidt', 1), ('Julie Long', 1), ('Claire Johnson', 1), ('Jennifer Woods', 2), ('Katherine Dyer', 1), ('Christopher Taylor', 1), ('Jonathan Valenzuela', 1), ('Stephen Taylor', 1), ('Nicholas Mccormick', 2), ('Carolyn Robinson', 3), ('Adrienne Snyder', 1), ('Samantha Barber', 1), ('Donald Wong', 1), ('Matthew Duncan', 1), ('Donald Pennington', 2), ('Kathleen Garrett', 1), ('Janet English', 3), ('James Romero', 1), ('Christopher Galloway', 4), ('James Dominguez', 2), ('Christy Hooper', 1), ('Nathan Oliver', 2), ('Mark Harvey', 3), ('Mandy Hardy', 1), ('Cindy Klein', 2), ('Eric Fisher', 1), ('Michael Sherman', 2), ('Jennifer Brown', 3), ('Mitchell Hall MD', 2), ('Miguel Dougherty', 3), ('Gary Bennett', 3), ('Andrew Price', 3), ('Angela Curtis', 1), ('Rachel Kemp', 1), ('Jill Trujillo', 1), ('Sandra Burgess', 1), ('David Bradley', 1), ('Dr. Clinton Smith MD', 1), ('Jeff Mata', 1), ('Daniel Morgan', 2), ('Justin Walls', 1), ('Jessica Leonard', 1), ('Darlene Powell', 1), ('Haley Butler', 1), ('Alicia Roth', 2), ('Paul Mendez', 1), ('Henry Nunez', 1), ('Chris Mitchell', 2), ('Joseph Jones', 2), ('Micheal Snow', 1), ('Roger Moyer', 1), ('Matthew Johnson', 3), ('Scott Mcdaniel', 1), ('Edward Collins', 3), ('Charles Weaver', 1), ('Christina Jackson', 3), ('Jeff Salazar', 2), ('Aimee Barnes', 1), ('Daniel Dixon', 2), ('Anne Young', 1), ('Emma Davis', 1), ('Brian Peterson', 2), ('Lisa Black', 2), ('Holly Gibson', 1), ('Jesse Smith', 2), ('Kathleen Cruz', 1), ('Andrew Hernandez', 1), ('Brandon Hendricks', 1), ('Lisa Davis', 1), ('Michael Moore', 1), ('Heather Willis', 1), ('Danielle Reyes', 1), ('Brittney Pearson', 1), ('Sandra Lucas', 1), ('Joshua Smith', 2), ('Elizabeth Cook', 3), ('Joseph Grant', 2), ('Tiffany Gonzalez MD', 3), ('Oscar Shepherd', 1), ('Cindy Howard', 2), ('Ashley Craig', 1), ('Michael Smith', 1), ('Robert George', 2), ('Teresa Martinez', 2), ('Monica Yates', 2), ('Todd Morrison', 2), ('Stephen Snyder', 2), ('Mr. James Williams', 1), ('Jodi Brooks', 1), ('Aaron Shaw DVM', 1), ('Eric Ortiz', 1), ('Amy Garcia DDS', 2), ('Christian King', 3), ('Erin Hoffman', 3), ('Patricia Harper', 2), ('Steven Garcia', 4), ('Dustin Merritt', 2), ('Nicole Randall', 2), ('Katherine Martinez', 1), ('Sandra Burch', 4), ('Matthew Walker', 1), ('Eric Bennett', 1), ('Clifford Howard', 1), ('Anthony Stout', 1), ('Mary Olson', 1), ('Deborah Mccoy', 1), ('Elizabeth Page', 1), ('Cynthia Ryan', 2), ('Jose Meyer', 1), ('Samuel Carlson', 2), ('Lisa Anderson', 1), ('Sharon Jackson', 4), ('Christopher Tran', 1), ('Kristen Neal', 2), ('Katrina Martin', 2), ('Jordan Graham', 2), ('Justin Jenkins', 1), ('Eric Shaw', 2), ('Lisa Bryant', 1), ('Michelle Vang', 3), ('Jessica Robinson', 1), ('Stephanie Murray', 3), ('Seth Bowen', 2), ('Laura Wang', 2), ('Jennifer Edwards', 1), ('Aaron Miller', 2), ('Chris Russell', 1), ('Danielle Reynolds', 1), ('Brittany Strickland', 1), ('Stephen Hanson', 3), ('Michele Johnston', 1), ('Christopher West', 1), ('Tracy Petersen', 2), ('Aaron Atkins', 3), ('Heather Howell', 1), ('Douglas Jones', 1), ('Michael Porter', 1), ('Mary Washington', 1), ('Lisa Santiago', 1), ('Nicole Malone', 1), ('Ronald Gonzalez', 1), ('Jennifer Hart', 2), ('Matthew Chan', 3), ('Jennifer Carter', 2), ('Michelle Ortiz', 1), ('Hannah Lang', 2), ('Danielle Williams', 1), ('Amanda Berg', 4), ('Stephanie Daniels', 2), ('John Johnston', 1), ('Justin Herman', 1), ('Edward Anderson', 2), ('Shawn Olson', 1), ('Courtney Adams', 2), ('Jamie Ayers', 2), ('Briana Mendoza', 2), ('Nicole Carter', 2), ('Amanda Nguyen', 1), ('Lawrence Weaver', 1), ('Karen Johnson', 1), ('Cindy Harris', 2), ('Samantha Moon', 1), ('Wendy Davidson', 1), ('Mr. Daniel Snyder', 3), ('Veronica Joyce', 2), ('Lindsay Moore', 1), ('John Hensley', 1), ('Marissa Taylor', 1), ('Joseph Kennedy', 3), ('Crystal Perez', 2), ('Lisa Rivera', 1), ('Blake Welch', 1), ('Jennifer Silva', 2), ('Roy Young', 1), ('Danielle Morris', 1), ('Devin Walsh', 1), ('Aaron Ruiz', 1), ('Michael Ramirez', 2), ('Justin Webb', 1), ('Leslie Holmes', 2), ('Lisa Roy', 1), ('Jason Webster', 1), ('Gregory Ruiz', 1), ('Emily Shannon', 2), ('Courtney Preston', 1), ('Amanda Rodriguez', 2), ('Tracy Patton', 2), ('Rebecca Hunt', 1), ('Christopher Jones', 1), ('Jody Porter', 1), ('Christina Smith', 1), ('Heidi Eaton', 3), ('Jonathan Dean', 2), ('Christian Sanders', 1), ('Jeanette Diaz', 1), ('Debbie Hunt', 1), ('Laura Lewis', 1), ('Mary Austin', 1), ('Jack Robles', 1), ('Steven Butler', 1), ('Joseph Chen', 2), ('Scott Hernandez', 3), ('Pamela Thomas', 1), ('Bryan Johnston', 1), ('Erika Moore DDS', 1), ('Amy Chavez', 1), ('David Nelson', 2), ('Joseph Turner', 1), ('David Perez', 2), ('Kimberly Miller', 1), ('Cheyenne Anderson', 1), ('Donald Duffy', 3), ('Tina Crosby', 1), ('Michelle Jones', 1), ('Danielle Gaines', 1), ('Rhonda Bennett', 1), ('Geoffrey Brown', 1), ('Kristin Calderon', 2), ('April Rivas MD', 1), ('Linda Nichols', 2), ('Barbara Yang', 3), ('Debbie Zamora', 1), ('Elizabeth Velazquez', 3), ('Thomas Edwards', 1), ('Lisa Howell', 1), ('Stefanie Morgan', 1), ('Christopher Roy', 2), ('Joseph Miles', 2), ('Cheyenne Hebert', 1), ('Angela Stevens', 4), ('Laura Taylor', 4), ('Lisa Allen', 1), ('John Price', 1), ('Keith Moore', 1), ('Carl Garcia', 2), ('Patricia Bernard', 1), ('Jasmine Cisneros', 2), ('Steven Keller', 1), ('Caitlin Lawrence', 3), ('Amber Lopez', 1), ('Veronica Frank', 1), ('Hunter Edwards', 1), ('Ashley Browning', 1), ('Kelly Moreno', 1), ('Robert Guzman', 1), ('Andrew Hunt', 3), ('Jose Franklin', 1), ('Jessica Davidson', 2), ('Mary Moran', 2), ('Jessica Warren', 1), ('Matthew Robertson', 1), ('Ronald Thomas', 1), ('Christine Villarreal', 2), ('Shirley Casey', 1), ('Jose Nelson', 1), ('Dana White', 1), ('Stanley Smith', 1), ('Laura Foley', 2), ('Samantha Jackson', 1), ('Gordon French', 3), ('Jason Johnson', 2), ('Marie Mendoza DDS', 1), ('Jessica Grant', 1), ('Crystal Guerrero', 1), ('Kim Gregory', 1), ('Richard Watkins', 1), ('Calvin Jackson', 1), ('Manuel Williams', 1), ('Aaron Brown', 1), ('Cameron Miller', 3), ('Craig Martin', 2), ('Timothy Valdez', 2), ('Kristin Lindsey DDS', 2), ('Matthew Ramos', 1), ('Melinda Barnes', 1), ('Kevin Maldonado', 2), ('Michael Stone', 1), ('Lori Miller', 1), ('Samantha Smith', 1), ('Joseph Valencia', 2), ('Jeffrey Stevens', 1), ('Jennifer Giles', 1), ('Cory Garcia', 3), ('Ashley Ramirez', 1), ('Matthew Murray', 2), ('Katherine Terrell', 2), ('Kimberly Watson', 4), ('Charles Delacruz', 1), ('Matthew Boyd', 1), ('Carrie Stone', 1), ('Johnny Gomez', 1), ('Heather Scott', 2), ('Ryan Mooney Jr.', 3), ('Mary Miller', 2), ('Kenneth Juarez', 2), ('James Mccullough', 1), ('Jody Cruz', 3), ('Ashley Morrow', 1), ('Mitchell Moon', 1), ('David Nixon', 2), ('Amber Bruce', 1), ('Stephanie Quinn', 1), ('Joshua Jones', 2), ('Jennifer Gutierrez', 1), ('Michael Hardin', 1), ('Lori Dorsey', 1), ('Joanna Rivers', 2), ('Joyce Schneider', 1), ('Zachary Payne', 1), ('Alexis Rogers', 1), ('Rhonda Collins', 3), ('Scott Dean', 2), ('Kelly Simpson', 1), ('Emily Harmon', 1), ('Dennis Warren', 2), ('Michael Joseph', 1), ('Christopher Cannon', 1), ('Robert Conway', 2), ('Brandy Bell', 3), ('Ms. Katherine Mitchell', 2), ('Tracie Simmons', 2), ('Donna Harper', 1), ('Brandon Collins', 1), ('Erik Bradley', 3), ('Brittney Kramer', 1), ('Christopher Jones', 1), ('Diane Johnson', 2), ('Daniel Valencia', 1), ('Amanda Hill', 1), ('James Higgins', 2), ('William Richardson', 1), ('Julie Green', 1), ('Julia Fields', 1), ('Jamie Gonzalez', 2), ('Elizabeth Martinez', 1), ('Tara Bautista', 1), ('Albert Ellis', 1), ('Alex Reyes', 1), ('Mathew Marsh', 2), ('Paul Hancock', 2), ('Charles Joseph', 2), ('Brady Caldwell', 2), ('Crystal Woodward', 1), ('Jennifer Joyce', 2), ('Brandy Reeves', 1), ('Linda Lopez', 3), ('Anna Nelson', 1), ('James Campbell', 1), ('Stephanie Nguyen', 2), ('Kenneth Simmons', 2), ('Margaret Anderson', 3), ('Shelly Kelly', 2), ('Taylor Holland', 2), ('Anna Davies', 2), ('Michael Brock', 2), ('Sarah Shepard', 1), ('Todd Duran', 1), ('Tanya Flores', 2), ('Jerry Navarro', 2), ('Ana Cochran', 1), ('Samantha Dorsey', 1), ('Heather Nixon', 2), ('Kevin Lyons', 2), ('Tiffany White MD', 3), ('Jesus Brown', 2), ('Thomas Soto', 2), ('Carrie Smith', 1), ('Anthony Bruce', 1), ('Renee Richmond', 1), ('Jose Reid', 1), ('Mary Mueller', 2), ('Lindsey Rich', 1), ('Anthony Fleming', 2), ('Joan Medina', 1), ('Christy Smith', 1), ('Don Nguyen', 4), ('Alison Luna', 1), ('Timothy Williamson', 2), ('Rachel Smith', 1), ('Mr. Louis Serrano', 1), ('Joshua Edwards', 2), ('Jacob Castro', 3), ('Sarah Gonzales', 2), ('Jillian Rogers', 2), ('Christopher Smith', 2), ('Tyler Stewart', 1), ('Mark Smith', 2), ('Christina West', 2), ('Joshua Campbell', 2), ('Eduardo Ramirez', 2), ('Molly Sanders', 1), ('Hunter Cole', 2), ('Sarah Miller', 1), ('Amy Murphy', 1), ('Sharon Escobar', 2), ('Daisy Becker', 3), ('Brittany Freeman', 2), ('Ryan Robinson', 1), ('Daniel Lopez', 2), ('Curtis Baker', 1), ('Paul Robinson', 2), ('Anna Singh', 1), ('Jessica Brown', 3), ('Amy Barton', 2)]\n",
            "\n"
          ],
          "name": "stdout"
        },
        {
          "output_type": "execute_result",
          "data": {
            "text/plain": [
              "<function TextIOWrapper.close>"
            ]
          },
          "metadata": {
            "tags": []
          },
          "execution_count": 64
        }
      ]
    },
    {
      "cell_type": "markdown",
      "metadata": {
        "id": "uhxqLV4TNnjA"
      },
      "source": [
        "### Challenge: Write a CSV file\r\n",
        "\r\n",
        "**This challenge isn't for extra marks, it's an opportunity for you to engage in some self guided discovery, only if you feel like it, and only if you have time.**\r\n",
        "\r\n",
        "If you want to challenge yourself, alter the report so that it conforms with the `.csv` file type. There are a number of ways to do this, you can use the `Pandas` module, the `csv` module, or manually."
      ]
    }
  ]
}